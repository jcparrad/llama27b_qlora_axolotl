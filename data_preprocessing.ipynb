{
 "cells": [
  {
   "cell_type": "markdown",
   "metadata": {},
   "source": [
    "# Descripcion\n",
    "En este notebook se busca crear el dataset en el formato adecuado. Para ello se debe crear un archivo jsonl, con la siguiente estructura para cada dato:\n",
    "\n",
    "{\"instruction\": \"...\", \"input\": \"...\", \"output\": \"...\"}\n",
    "\n",
    "Después se genera un archivo de training_val y de testing, para entrenar y para hacer prueba de test"
   ]
  },
  {
   "cell_type": "markdown",
   "metadata": {},
   "source": []
  },
  {
   "cell_type": "code",
   "execution_count": null,
   "metadata": {},
   "outputs": [],
   "source": [
    "import pandas as pd"
   ]
  },
  {
   "cell_type": "code",
   "execution_count": 4,
   "id": "ce2c5037-9ad2-4007-8fbb-d2ec304fa328",
   "metadata": {
    "scrolled": true
   },
   "outputs": [
    {
     "name": "stdout",
     "output_type": "stream",
     "text": [
      "Requirement already satisfied: datasets in /root/miniconda3/envs/py3.10/lib/python3.10/site-packages (2.15.0)\n",
      "Requirement already satisfied: transformers[sentencepiece] in /root/miniconda3/envs/py3.10/lib/python3.10/site-packages (4.36.0.dev0)\n",
      "Requirement already satisfied: numpy>=1.17 in /root/miniconda3/envs/py3.10/lib/python3.10/site-packages (from datasets) (1.26.2)\n",
      "Requirement already satisfied: pyarrow>=8.0.0 in /root/miniconda3/envs/py3.10/lib/python3.10/site-packages (from datasets) (14.0.1)\n",
      "Requirement already satisfied: pyarrow-hotfix in /root/miniconda3/envs/py3.10/lib/python3.10/site-packages (from datasets) (0.6)\n",
      "Requirement already satisfied: dill<0.3.8,>=0.3.0 in /root/miniconda3/envs/py3.10/lib/python3.10/site-packages (from datasets) (0.3.7)\n",
      "Requirement already satisfied: pandas in /root/miniconda3/envs/py3.10/lib/python3.10/site-packages (from datasets) (2.1.4)\n",
      "Requirement already satisfied: requests>=2.19.0 in /root/miniconda3/envs/py3.10/lib/python3.10/site-packages (from datasets) (2.31.0)\n",
      "Requirement already satisfied: tqdm>=4.62.1 in /root/miniconda3/envs/py3.10/lib/python3.10/site-packages (from datasets) (4.66.1)\n",
      "Requirement already satisfied: xxhash in /root/miniconda3/envs/py3.10/lib/python3.10/site-packages (from datasets) (3.4.1)\n",
      "Requirement already satisfied: multiprocess in /root/miniconda3/envs/py3.10/lib/python3.10/site-packages (from datasets) (0.70.15)\n",
      "Requirement already satisfied: fsspec<=2023.10.0,>=2023.1.0 in /root/miniconda3/envs/py3.10/lib/python3.10/site-packages (from fsspec[http]<=2023.10.0,>=2023.1.0->datasets) (2023.10.0)\n",
      "Requirement already satisfied: aiohttp in /root/miniconda3/envs/py3.10/lib/python3.10/site-packages (from datasets) (3.9.1)\n",
      "Requirement already satisfied: huggingface-hub>=0.18.0 in /root/miniconda3/envs/py3.10/lib/python3.10/site-packages (from datasets) (0.19.4)\n",
      "Requirement already satisfied: packaging in /root/miniconda3/envs/py3.10/lib/python3.10/site-packages (from datasets) (23.2)\n",
      "Requirement already satisfied: pyyaml>=5.1 in /root/miniconda3/envs/py3.10/lib/python3.10/site-packages (from datasets) (6.0.1)\n",
      "Requirement already satisfied: filelock in /root/miniconda3/envs/py3.10/lib/python3.10/site-packages (from transformers[sentencepiece]) (3.13.1)\n",
      "Requirement already satisfied: regex!=2019.12.17 in /root/miniconda3/envs/py3.10/lib/python3.10/site-packages (from transformers[sentencepiece]) (2023.10.3)\n",
      "Requirement already satisfied: tokenizers<0.19,>=0.14 in /root/miniconda3/envs/py3.10/lib/python3.10/site-packages (from transformers[sentencepiece]) (0.15.0)\n",
      "Requirement already satisfied: safetensors>=0.3.1 in /root/miniconda3/envs/py3.10/lib/python3.10/site-packages (from transformers[sentencepiece]) (0.4.1)\n",
      "Requirement already satisfied: sentencepiece!=0.1.92,>=0.1.91 in /root/miniconda3/envs/py3.10/lib/python3.10/site-packages (from transformers[sentencepiece]) (0.1.99)\n",
      "Requirement already satisfied: protobuf in /root/miniconda3/envs/py3.10/lib/python3.10/site-packages (from transformers[sentencepiece]) (4.23.4)\n",
      "Requirement already satisfied: attrs>=17.3.0 in /root/miniconda3/envs/py3.10/lib/python3.10/site-packages (from aiohttp->datasets) (23.1.0)\n",
      "Requirement already satisfied: multidict<7.0,>=4.5 in /root/miniconda3/envs/py3.10/lib/python3.10/site-packages (from aiohttp->datasets) (6.0.4)\n",
      "Requirement already satisfied: yarl<2.0,>=1.0 in /root/miniconda3/envs/py3.10/lib/python3.10/site-packages (from aiohttp->datasets) (1.9.4)\n",
      "Requirement already satisfied: frozenlist>=1.1.1 in /root/miniconda3/envs/py3.10/lib/python3.10/site-packages (from aiohttp->datasets) (1.4.0)\n",
      "Requirement already satisfied: aiosignal>=1.1.2 in /root/miniconda3/envs/py3.10/lib/python3.10/site-packages (from aiohttp->datasets) (1.3.1)\n",
      "Requirement already satisfied: async-timeout<5.0,>=4.0 in /root/miniconda3/envs/py3.10/lib/python3.10/site-packages (from aiohttp->datasets) (4.0.3)\n",
      "Requirement already satisfied: typing-extensions>=3.7.4.3 in /root/miniconda3/envs/py3.10/lib/python3.10/site-packages (from huggingface-hub>=0.18.0->datasets) (4.8.0)\n",
      "Requirement already satisfied: charset-normalizer<4,>=2 in /root/miniconda3/envs/py3.10/lib/python3.10/site-packages (from requests>=2.19.0->datasets) (3.3.2)\n",
      "Requirement already satisfied: idna<4,>=2.5 in /root/miniconda3/envs/py3.10/lib/python3.10/site-packages (from requests>=2.19.0->datasets) (3.6)\n",
      "Requirement already satisfied: urllib3<3,>=1.21.1 in /root/miniconda3/envs/py3.10/lib/python3.10/site-packages (from requests>=2.19.0->datasets) (2.0.7)\n",
      "Requirement already satisfied: certifi>=2017.4.17 in /root/miniconda3/envs/py3.10/lib/python3.10/site-packages (from requests>=2.19.0->datasets) (2023.11.17)\n",
      "Requirement already satisfied: python-dateutil>=2.8.2 in /root/miniconda3/envs/py3.10/lib/python3.10/site-packages (from pandas->datasets) (2.8.2)\n",
      "Requirement already satisfied: pytz>=2020.1 in /root/miniconda3/envs/py3.10/lib/python3.10/site-packages (from pandas->datasets) (2023.3.post1)\n",
      "Requirement already satisfied: tzdata>=2022.1 in /root/miniconda3/envs/py3.10/lib/python3.10/site-packages (from pandas->datasets) (2023.3)\n",
      "Requirement already satisfied: six>=1.5 in /root/miniconda3/envs/py3.10/lib/python3.10/site-packages (from python-dateutil>=2.8.2->pandas->datasets) (1.16.0)\n",
      "\u001b[33mWARNING: Running pip as the 'root' user can result in broken permissions and conflicting behaviour with the system package manager. It is recommended to use a virtual environment instead: https://pip.pypa.io/warnings/venv\u001b[0m\u001b[33m\n",
      "\u001b[0m"
     ]
    }
   ],
   "source": [
    "!pip install datasets transformers[sentencepiece]\n",
    "!pip install jsonlines"
   ]
  },
  {
   "cell_type": "code",
   "execution_count": 5,
   "id": "625a1ac7-801b-4768-b74a-721690174448",
   "metadata": {},
   "outputs": [
    {
     "data": {
      "application/vnd.jupyter.widget-view+json": {
       "model_id": "811b897e851141319d5db25ec1eacb9f",
       "version_major": 2,
       "version_minor": 0
      },
      "text/plain": [
       "Saving the dataset (0/1 shards):   0%|          | 0/2508 [00:00<?, ? examples/s]"
      ]
     },
     "metadata": {},
     "output_type": "display_data"
    }
   ],
   "source": [
    "\n",
    "from datasets import load_dataset\n",
    "\n",
    "raw_datasets = load_dataset(\"Abirate/english_quotes\")\n",
    "raw_datasets.cache_files\n",
    "raw_datasets.save_to_disk(\"Abirate_english_quotes\")"
   ]
  },
  {
   "cell_type": "code",
   "execution_count": 6,
   "id": "b14a1a20-39c5-405f-b0a5-e407c2b86d6e",
   "metadata": {},
   "outputs": [
    {
     "data": {
      "text/plain": [
       "DatasetDict({\n",
       "    train: Dataset({\n",
       "        features: ['quote', 'author', 'tags'],\n",
       "        num_rows: 2508\n",
       "    })\n",
       "})"
      ]
     },
     "execution_count": 6,
     "metadata": {},
     "output_type": "execute_result"
    }
   ],
   "source": [
    "from datasets import load_from_disk\n",
    "\n",
    "arrow_datasets_reloaded = load_from_disk(\"Abirate_english_quotes\")\n",
    "arrow_datasets_reloaded"
   ]
  },
  {
   "cell_type": "code",
   "execution_count": 7,
   "id": "d7adc6fd-4d2f-40dc-8311-c8f7b30674f3",
   "metadata": {},
   "outputs": [
    {
     "data": {
      "application/vnd.jupyter.widget-view+json": {
       "model_id": "79575e10be0c4074868a68068b3438b8",
       "version_major": 2,
       "version_minor": 0
      },
      "text/plain": [
       "Creating CSV from Arrow format:   0%|          | 0/3 [00:00<?, ?ba/s]"
      ]
     },
     "metadata": {},
     "output_type": "display_data"
    }
   ],
   "source": [
    "for split, dataset in raw_datasets.items():\n",
    "    dataset.to_csv(f\"my-dataset-{split}.csv\", index=None)"
   ]
  },
  {
   "cell_type": "code",
   "execution_count": 11,
   "id": "adf92b8a-43d9-4d12-b340-0632181d8469",
   "metadata": {},
   "outputs": [
    {
     "data": {
      "text/html": [
       "<div>\n",
       "<style scoped>\n",
       "    .dataframe tbody tr th:only-of-type {\n",
       "        vertical-align: middle;\n",
       "    }\n",
       "\n",
       "    .dataframe tbody tr th {\n",
       "        vertical-align: top;\n",
       "    }\n",
       "\n",
       "    .dataframe thead th {\n",
       "        text-align: right;\n",
       "    }\n",
       "</style>\n",
       "<table border=\"1\" class=\"dataframe\">\n",
       "  <thead>\n",
       "    <tr style=\"text-align: right;\">\n",
       "      <th></th>\n",
       "      <th>quote</th>\n",
       "      <th>author</th>\n",
       "      <th>tags</th>\n",
       "      <th>output</th>\n",
       "      <th>instruction</th>\n",
       "    </tr>\n",
       "  </thead>\n",
       "  <tbody>\n",
       "    <tr>\n",
       "      <th>0</th>\n",
       "      <td>“Be yourself; everyone else is already taken.”</td>\n",
       "      <td>Oscar Wilde</td>\n",
       "      <td>['be-yourself' 'gilbert-perreira' 'honesty' 'i...</td>\n",
       "      <td>Oscar Wilde: ['be-yourself' 'gilbert-perreira'...</td>\n",
       "      <td>“Be yourself; everyone else is already taken.”</td>\n",
       "    </tr>\n",
       "    <tr>\n",
       "      <th>1</th>\n",
       "      <td>“I'm selfish, impatient and a little insecure....</td>\n",
       "      <td>Marilyn Monroe</td>\n",
       "      <td>['best' 'life' 'love' 'mistakes' 'out-of-contr...</td>\n",
       "      <td>Marilyn Monroe: ['best' 'life' 'love' 'mistake...</td>\n",
       "      <td>“I'm selfish, impatient and a little insecure....</td>\n",
       "    </tr>\n",
       "    <tr>\n",
       "      <th>2</th>\n",
       "      <td>“Two things are infinite: the universe and hum...</td>\n",
       "      <td>Albert Einstein</td>\n",
       "      <td>['human-nature' 'humor' 'infinity' 'philosophy...</td>\n",
       "      <td>Albert Einstein: ['human-nature' 'humor' 'infi...</td>\n",
       "      <td>“Two things are infinite: the universe and hum...</td>\n",
       "    </tr>\n",
       "    <tr>\n",
       "      <th>3</th>\n",
       "      <td>“So many books, so little time.”</td>\n",
       "      <td>Frank Zappa</td>\n",
       "      <td>['books' 'humor']</td>\n",
       "      <td>Frank Zappa: ['books' 'humor']</td>\n",
       "      <td>“So many books, so little time.”</td>\n",
       "    </tr>\n",
       "    <tr>\n",
       "      <th>4</th>\n",
       "      <td>“A room without books is like a body without a...</td>\n",
       "      <td>Marcus Tullius Cicero</td>\n",
       "      <td>['books' 'simile' 'soul']</td>\n",
       "      <td>Marcus Tullius Cicero: ['books' 'simile' 'soul']</td>\n",
       "      <td>“A room without books is like a body without a...</td>\n",
       "    </tr>\n",
       "    <tr>\n",
       "      <th>...</th>\n",
       "      <td>...</td>\n",
       "      <td>...</td>\n",
       "      <td>...</td>\n",
       "      <td>...</td>\n",
       "      <td>...</td>\n",
       "    </tr>\n",
       "    <tr>\n",
       "      <th>2503</th>\n",
       "      <td>“Morality is simply the attitude we adopt towa...</td>\n",
       "      <td>Oscar Wilde,</td>\n",
       "      <td>['morality' 'philosophy']</td>\n",
       "      <td>Oscar Wilde,: ['morality' 'philosophy']</td>\n",
       "      <td>“Morality is simply the attitude we adopt towa...</td>\n",
       "    </tr>\n",
       "    <tr>\n",
       "      <th>2504</th>\n",
       "      <td>“Don't aim at success. The more you aim at it ...</td>\n",
       "      <td>Viktor E. Frankl,</td>\n",
       "      <td>['happiness' 'success']</td>\n",
       "      <td>Viktor E. Frankl,: ['happiness' 'success']</td>\n",
       "      <td>“Don't aim at success. The more you aim at it ...</td>\n",
       "    </tr>\n",
       "    <tr>\n",
       "      <th>2505</th>\n",
       "      <td>“In life, finding a voice is speaking and livi...</td>\n",
       "      <td>John Grisham</td>\n",
       "      <td>['inspirational-life']</td>\n",
       "      <td>John Grisham: ['inspirational-life']</td>\n",
       "      <td>“In life, finding a voice is speaking and livi...</td>\n",
       "    </tr>\n",
       "    <tr>\n",
       "      <th>2506</th>\n",
       "      <td>“Winter is the time for comfort, for good food...</td>\n",
       "      <td>Edith Sitwell</td>\n",
       "      <td>['comfort' 'home' 'winter']</td>\n",
       "      <td>Edith Sitwell: ['comfort' 'home' 'winter']</td>\n",
       "      <td>“Winter is the time for comfort, for good food...</td>\n",
       "    </tr>\n",
       "    <tr>\n",
       "      <th>2507</th>\n",
       "      <td>“Silence is so freaking loud”</td>\n",
       "      <td>Sarah Dessen,</td>\n",
       "      <td>['just-listen' 'loud' 'owen' 'sara-dessen' 'si...</td>\n",
       "      <td>Sarah Dessen,: ['just-listen' 'loud' 'owen' 's...</td>\n",
       "      <td>“Silence is so freaking loud”</td>\n",
       "    </tr>\n",
       "  </tbody>\n",
       "</table>\n",
       "<p>2508 rows × 5 columns</p>\n",
       "</div>"
      ],
      "text/plain": [
       "                                                  quote  \\\n",
       "0        “Be yourself; everyone else is already taken.”   \n",
       "1     “I'm selfish, impatient and a little insecure....   \n",
       "2     “Two things are infinite: the universe and hum...   \n",
       "3                      “So many books, so little time.”   \n",
       "4     “A room without books is like a body without a...   \n",
       "...                                                 ...   \n",
       "2503  “Morality is simply the attitude we adopt towa...   \n",
       "2504  “Don't aim at success. The more you aim at it ...   \n",
       "2505  “In life, finding a voice is speaking and livi...   \n",
       "2506  “Winter is the time for comfort, for good food...   \n",
       "2507                      “Silence is so freaking loud”   \n",
       "\n",
       "                     author  \\\n",
       "0               Oscar Wilde   \n",
       "1            Marilyn Monroe   \n",
       "2           Albert Einstein   \n",
       "3               Frank Zappa   \n",
       "4     Marcus Tullius Cicero   \n",
       "...                     ...   \n",
       "2503           Oscar Wilde,   \n",
       "2504      Viktor E. Frankl,   \n",
       "2505           John Grisham   \n",
       "2506          Edith Sitwell   \n",
       "2507          Sarah Dessen,   \n",
       "\n",
       "                                                   tags  \\\n",
       "0     ['be-yourself' 'gilbert-perreira' 'honesty' 'i...   \n",
       "1     ['best' 'life' 'love' 'mistakes' 'out-of-contr...   \n",
       "2     ['human-nature' 'humor' 'infinity' 'philosophy...   \n",
       "3                                     ['books' 'humor']   \n",
       "4                             ['books' 'simile' 'soul']   \n",
       "...                                                 ...   \n",
       "2503                          ['morality' 'philosophy']   \n",
       "2504                            ['happiness' 'success']   \n",
       "2505                             ['inspirational-life']   \n",
       "2506                        ['comfort' 'home' 'winter']   \n",
       "2507  ['just-listen' 'loud' 'owen' 'sara-dessen' 'si...   \n",
       "\n",
       "                                                 output  \\\n",
       "0     Oscar Wilde: ['be-yourself' 'gilbert-perreira'...   \n",
       "1     Marilyn Monroe: ['best' 'life' 'love' 'mistake...   \n",
       "2     Albert Einstein: ['human-nature' 'humor' 'infi...   \n",
       "3                        Frank Zappa: ['books' 'humor']   \n",
       "4      Marcus Tullius Cicero: ['books' 'simile' 'soul']   \n",
       "...                                                 ...   \n",
       "2503            Oscar Wilde,: ['morality' 'philosophy']   \n",
       "2504         Viktor E. Frankl,: ['happiness' 'success']   \n",
       "2505               John Grisham: ['inspirational-life']   \n",
       "2506         Edith Sitwell: ['comfort' 'home' 'winter']   \n",
       "2507  Sarah Dessen,: ['just-listen' 'loud' 'owen' 's...   \n",
       "\n",
       "                                            instruction  \n",
       "0        “Be yourself; everyone else is already taken.”  \n",
       "1     “I'm selfish, impatient and a little insecure....  \n",
       "2     “Two things are infinite: the universe and hum...  \n",
       "3                      “So many books, so little time.”  \n",
       "4     “A room without books is like a body without a...  \n",
       "...                                                 ...  \n",
       "2503  “Morality is simply the attitude we adopt towa...  \n",
       "2504  “Don't aim at success. The more you aim at it ...  \n",
       "2505  “In life, finding a voice is speaking and livi...  \n",
       "2506  “Winter is the time for comfort, for good food...  \n",
       "2507                      “Silence is so freaking loud”  \n",
       "\n",
       "[2508 rows x 5 columns]"
      ]
     },
     "execution_count": 11,
     "metadata": {},
     "output_type": "execute_result"
    }
   ],
   "source": [
    "# load dataset in pandas dataframe\n",
    "\n",
    "df = pd.read_csv(\"my-dataset-train.csv\")\n",
    "df[\"output\"] = df.apply(lambda row: row[\"author\"] + \": \" + row[\"tags\"], axis = 1)\n",
    "df[\"instruction\"] = df[\"quote\"]\n",
    "df\n",
    "\n"
   ]
  },
  {
   "cell_type": "code",
   "execution_count": 12,
   "id": "177606b1-4fe6-4510-abe9-41f777b61c95",
   "metadata": {},
   "outputs": [
    {
     "data": {
      "text/html": [
       "<div>\n",
       "<style scoped>\n",
       "    .dataframe tbody tr th:only-of-type {\n",
       "        vertical-align: middle;\n",
       "    }\n",
       "\n",
       "    .dataframe tbody tr th {\n",
       "        vertical-align: top;\n",
       "    }\n",
       "\n",
       "    .dataframe thead th {\n",
       "        text-align: right;\n",
       "    }\n",
       "</style>\n",
       "<table border=\"1\" class=\"dataframe\">\n",
       "  <thead>\n",
       "    <tr style=\"text-align: right;\">\n",
       "      <th></th>\n",
       "      <th>quote</th>\n",
       "      <th>author</th>\n",
       "      <th>tags</th>\n",
       "      <th>output</th>\n",
       "      <th>instruction</th>\n",
       "      <th>json_i</th>\n",
       "    </tr>\n",
       "  </thead>\n",
       "  <tbody>\n",
       "    <tr>\n",
       "      <th>0</th>\n",
       "      <td>“Be yourself; everyone else is already taken.”</td>\n",
       "      <td>Oscar Wilde</td>\n",
       "      <td>['be-yourself' 'gilbert-perreira' 'honesty' 'i...</td>\n",
       "      <td>Oscar Wilde: ['be-yourself' 'gilbert-perreira'...</td>\n",
       "      <td>“Be yourself; everyone else is already taken.”</td>\n",
       "      <td>{'instruction': '“Be yourself; everyone else i...</td>\n",
       "    </tr>\n",
       "    <tr>\n",
       "      <th>1</th>\n",
       "      <td>“I'm selfish, impatient and a little insecure....</td>\n",
       "      <td>Marilyn Monroe</td>\n",
       "      <td>['best' 'life' 'love' 'mistakes' 'out-of-contr...</td>\n",
       "      <td>Marilyn Monroe: ['best' 'life' 'love' 'mistake...</td>\n",
       "      <td>“I'm selfish, impatient and a little insecure....</td>\n",
       "      <td>{'instruction': '“I'm selfish, impatient and a...</td>\n",
       "    </tr>\n",
       "    <tr>\n",
       "      <th>2</th>\n",
       "      <td>“Two things are infinite: the universe and hum...</td>\n",
       "      <td>Albert Einstein</td>\n",
       "      <td>['human-nature' 'humor' 'infinity' 'philosophy...</td>\n",
       "      <td>Albert Einstein: ['human-nature' 'humor' 'infi...</td>\n",
       "      <td>“Two things are infinite: the universe and hum...</td>\n",
       "      <td>{'instruction': '“Two things are infinite: the...</td>\n",
       "    </tr>\n",
       "    <tr>\n",
       "      <th>3</th>\n",
       "      <td>“So many books, so little time.”</td>\n",
       "      <td>Frank Zappa</td>\n",
       "      <td>['books' 'humor']</td>\n",
       "      <td>Frank Zappa: ['books' 'humor']</td>\n",
       "      <td>“So many books, so little time.”</td>\n",
       "      <td>{'instruction': '“So many books, so little tim...</td>\n",
       "    </tr>\n",
       "    <tr>\n",
       "      <th>4</th>\n",
       "      <td>“A room without books is like a body without a...</td>\n",
       "      <td>Marcus Tullius Cicero</td>\n",
       "      <td>['books' 'simile' 'soul']</td>\n",
       "      <td>Marcus Tullius Cicero: ['books' 'simile' 'soul']</td>\n",
       "      <td>“A room without books is like a body without a...</td>\n",
       "      <td>{'instruction': '“A room without books is like...</td>\n",
       "    </tr>\n",
       "  </tbody>\n",
       "</table>\n",
       "</div>"
      ],
      "text/plain": [
       "                                               quote                 author  \\\n",
       "0     “Be yourself; everyone else is already taken.”            Oscar Wilde   \n",
       "1  “I'm selfish, impatient and a little insecure....         Marilyn Monroe   \n",
       "2  “Two things are infinite: the universe and hum...        Albert Einstein   \n",
       "3                   “So many books, so little time.”            Frank Zappa   \n",
       "4  “A room without books is like a body without a...  Marcus Tullius Cicero   \n",
       "\n",
       "                                                tags  \\\n",
       "0  ['be-yourself' 'gilbert-perreira' 'honesty' 'i...   \n",
       "1  ['best' 'life' 'love' 'mistakes' 'out-of-contr...   \n",
       "2  ['human-nature' 'humor' 'infinity' 'philosophy...   \n",
       "3                                  ['books' 'humor']   \n",
       "4                          ['books' 'simile' 'soul']   \n",
       "\n",
       "                                              output  \\\n",
       "0  Oscar Wilde: ['be-yourself' 'gilbert-perreira'...   \n",
       "1  Marilyn Monroe: ['best' 'life' 'love' 'mistake...   \n",
       "2  Albert Einstein: ['human-nature' 'humor' 'infi...   \n",
       "3                     Frank Zappa: ['books' 'humor']   \n",
       "4   Marcus Tullius Cicero: ['books' 'simile' 'soul']   \n",
       "\n",
       "                                         instruction  \\\n",
       "0     “Be yourself; everyone else is already taken.”   \n",
       "1  “I'm selfish, impatient and a little insecure....   \n",
       "2  “Two things are infinite: the universe and hum...   \n",
       "3                   “So many books, so little time.”   \n",
       "4  “A room without books is like a body without a...   \n",
       "\n",
       "                                              json_i  \n",
       "0  {'instruction': '“Be yourself; everyone else i...  \n",
       "1  {'instruction': '“I'm selfish, impatient and a...  \n",
       "2  {'instruction': '“Two things are infinite: the...  \n",
       "3  {'instruction': '“So many books, so little tim...  \n",
       "4  {'instruction': '“A room without books is like...  "
      ]
     },
     "execution_count": 12,
     "metadata": {},
     "output_type": "execute_result"
    }
   ],
   "source": [
    "\n",
    "def get_json_per_row_chat_format(row):\n",
    "    json_i = {\"instruction\":row[\"instruction\"],\"input\":\"\" , \"output\":row[\"output\"]}\n",
    "    \n",
    "    return json_i\n",
    "\n",
    "df[\"json_i\"] = df.apply(lambda row: get_json_per_row_chat_format(row), axis = 1)\n",
    "df.head()\n",
    "\n",
    "\n",
    "\n"
   ]
  },
  {
   "cell_type": "code",
   "execution_count": 13,
   "id": "6af0b5fd-26c7-4b7c-89f3-60a5ce397a89",
   "metadata": {},
   "outputs": [
    {
     "name": "stdout",
     "output_type": "stream",
     "text": [
      "(2006, 6)\n",
      "(502, 6)\n"
     ]
    }
   ],
   "source": [
    "import pandas as pd\n",
    "\n",
    "df = df.sample(frac=1, random_state=42).reset_index(drop=True)\n",
    "\n",
    "# Specify the ratio for splitting (e.g., 80-20)\n",
    "train_ratio = 0.8\n",
    "test_ratio = 1 - train_ratio\n",
    "\n",
    "# Calculate the split index\n",
    "split_index = int(len(df) * train_ratio)\n",
    "\n",
    "# Split the DataFrame\n",
    "df_train = df.iloc[:split_index]\n",
    "df_test = df.iloc[split_index:]\n",
    "\n",
    "print(df_train.shape)\n",
    "print(df_test.shape)\n"
   ]
  },
  {
   "cell_type": "code",
   "execution_count": 19,
   "id": "2ca2f2cd-3946-4bc2-b50b-605fbff28ae1",
   "metadata": {},
   "outputs": [],
   "source": [
    "df_train.to_csv(\"data/df_train.csv\")\n",
    "df_test.to_csv(\"data/df_test.csv\")\n"
   ]
  },
  {
   "cell_type": "code",
   "execution_count": null,
   "id": "d499e5bd-a9c4-4102-b209-6e17c56c8693",
   "metadata": {},
   "outputs": [],
   "source": []
  },
  {
   "cell_type": "code",
   "execution_count": 17,
   "id": "e3719ec5-cc64-492f-a23e-1111f77047bb",
   "metadata": {},
   "outputs": [
    {
     "name": "stdout",
     "output_type": "stream",
     "text": [
      "2006\n",
      "The data has been saved to data/train.jsonl\n"
     ]
    }
   ],
   "source": [
    "import jsonlines\n",
    "import json\n",
    "\n",
    "df_json = df_train\n",
    "data = list(df_json[\"json_i\"].values)\n",
    "print(len(data))\n",
    "\n",
    "file_path = 'data/train.jsonl'\n",
    "\n",
    "# Write the list of dictionaries to the JSONL file\n",
    "with jsonlines.open(file_path, mode='w') as jsonl_file:\n",
    "    jsonl_file.write_all(data)\n",
    "\n",
    "print(f'The data has been saved to {file_path}')"
   ]
  },
  {
   "cell_type": "code",
   "execution_count": 20,
   "id": "b27f01fa-e2e7-4b89-8307-275b44328a3d",
   "metadata": {},
   "outputs": [
    {
     "name": "stdout",
     "output_type": "stream",
     "text": [
      "502\n",
      "The data has been saved to data/df_test.jsonl\n"
     ]
    }
   ],
   "source": [
    "import jsonlines\n",
    "import json\n",
    "\n",
    "df_json = df_test\n",
    "data = list(df_json[\"json_i\"].values)\n",
    "print(len(data))\n",
    "\n",
    "file_path = 'data/df_test.jsonl'\n",
    "\n",
    "# Write the list of dictionaries to the JSONL file\n",
    "with jsonlines.open(file_path, mode='w') as jsonl_file:\n",
    "    jsonl_file.write_all(data)\n",
    "\n",
    "print(f'The data has been saved to {file_path}')\n"
   ]
  },
  {
   "cell_type": "code",
   "execution_count": null,
   "id": "6de43a6c-effa-44fd-b218-1859dda0b3eb",
   "metadata": {},
   "outputs": [],
   "source": []
  }
 ],
 "metadata": {
  "environment": {
   "kernel": "python3",
   "name": "pytorch-gpu.2-0.m112",
   "type": "gcloud",
   "uri": "gcr.io/deeplearning-platform-release/pytorch-gpu.2-0:m112"
  },
  "kernelspec": {
   "display_name": "Python 3",
   "language": "python",
   "name": "python3"
  },
  "language_info": {
   "codemirror_mode": {
    "name": "ipython",
    "version": 3
   },
   "file_extension": ".py",
   "mimetype": "text/x-python",
   "name": "python",
   "nbconvert_exporter": "python",
   "pygments_lexer": "ipython3",
   "version": "3.10.12"
  }
 },
 "nbformat": 4,
 "nbformat_minor": 5
}
